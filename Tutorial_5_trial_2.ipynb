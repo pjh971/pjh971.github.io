{
  "cells": [
    {
      "cell_type": "markdown",
      "metadata": {
        "id": "view-in-github",
        "colab_type": "text"
      },
      "source": [
        "<a href=\"https://colab.research.google.com/github/pjh971/pjh971.github.io/blob/master/Tutorial_5_trial_2.ipynb\" target=\"_parent\"><img src=\"https://colab.research.google.com/assets/colab-badge.svg\" alt=\"Open In Colab\"/></a>"
      ]
    },
    {
      "cell_type": "markdown",
      "metadata": {
        "collapsed": false,
        "id": "uSGZ6cdmpknm",
        "pycharm": {
          "name": "#%% md\n"
        }
      },
      "source": [
        "[<img src='https://github.com/jeshraghian/snntorch/blob/master/docs/_static/img/snntorch_alpha_w.png?raw=true' width=\"400\">](https://github.com/jeshraghian/snntorch/)\n",
        "\n",
        "\n",
        "# snnTorch - Training Spiking Convolutional Neural Networks with snnTorch\n",
        "## Tutorial 5\n",
        "### By Jason K. Eshraghian (www.jasoneshraghian.com)\n",
        "\n",
        "<a href=\"https://colab.research.google.com/github/jeshraghian/snntorch/blob/master/examples/tutorial_6_CNN.ipynb\">\n",
        "  <img src=\"https://colab.research.google.com/assets/colab-badge.svg\" alt=\"Open In Colab\"/>\n",
        "</a>\n",
        "\n",
        "\n",
        "[<img src='https://github.com/jeshraghian/snntorch/blob/master/docs/_static/img/GitHub-Mark-Light-120px-plus.png?raw=true' width=\"28\">](https://github.com/jeshraghian/snntorch/) [<img src='https://github.com/jeshraghian/snntorch/blob/master/docs/_static/img/GitHub_Logo_White.png?raw=true' width=\"80\">](https://github.com/jeshraghian/snntorch/)"
      ]
    },
    {
      "cell_type": "markdown",
      "metadata": {
        "id": "rugeYYiqsrlc"
      },
      "source": [
        "The snnTorch tutorial series is based on the following paper. If you find these resources or code useful in your work, please consider citing the following source:\n",
        "\n",
        "> <cite> [Jason K. Eshraghian, Max Ward, Emre Neftci, Xinxin Wang, Gregor Lenz, Girish Dwivedi, Mohammed Bennamoun, Doo Seok Jeong, and Wei D. Lu. \"Training Spiking Neural Networks Using Lessons From Deep Learning\". arXiv preprint arXiv:2109.12894, September 2021.](https://arxiv.org/abs/2109.12894) </cite>\n",
        "\n"
      ]
    },
    {
      "cell_type": "markdown",
      "metadata": {
        "id": "Ymi3sqJg28OQ"
      },
      "source": [
        "# Introduction\n",
        "In this tutorial, you will:\n",
        "* Learn how spiking neurons are implemented as a recurrent network\n",
        "* Understand backpropagation through time, and the associated challenges in SNNs such as the non-differentiability of spikes\n",
        "* Train a fully-connected network on the static MNIST dataset\n",
        "\n",
        "<!-- * Implement various backprop strategies:\n",
        "  * Backpropagation Through Time\n",
        "  * Truncated-Backpropagation Through Time\n",
        "  * Real-Time Recurrent Learning -->\n",
        "\n",
        ">Part of this tutorial was inspired by Friedemann Zenke's extensive work on SNNs. Check out his repo on surrogate gradients [here](https://github.com/fzenke/spytorch), and a favourite paper of mine: E. O. Neftci, H. Mostafa, F. Zenke, [Surrogate Gradient Learning in Spiking Neural Networks: Bringing the Power of Gradient-based optimization to spiking neural networks.](https://ieeexplore.ieee.org/document/8891809) IEEE Signal Processing Magazine 36, 51–63.\n",
        "\n",
        "At the end of the tutorial, a basic supervised learning algorithm will be implemented. We will use the original static MNIST dataset and train a multi-layer fully-connected spiking neural network using gradient descent to perform image classification. \n",
        "\n",
        "If running in Google Colab:\n",
        "* You may connect to GPU by checking `Runtime` > `Change runtime type` > `Hardware accelerator: GPU`\n",
        "* Next, install the latest PyPi distribution of snnTorch by clicking into the following cell and pressing `Shift+Enter`."
      ]
    },
    {
      "cell_type": "code",
      "execution_count": null,
      "metadata": {
        "id": "5tn_wUlopkon",
        "pycharm": {
          "name": "#%%\n"
        },
        "colab": {
          "base_uri": "https://localhost:8080/"
        },
        "outputId": "19f2e4c9-d986-4507-fa39-c8f86e84d491"
      },
      "outputs": [
        {
          "output_type": "stream",
          "name": "stdout",
          "text": [
            "Requirement already satisfied: snntorch in /usr/local/lib/python3.7/dist-packages (0.4.11)\n",
            "Requirement already satisfied: pandas in /usr/local/lib/python3.7/dist-packages (from snntorch) (1.1.5)\n",
            "Requirement already satisfied: torch>=1.1.0 in /usr/local/lib/python3.7/dist-packages (from snntorch) (1.10.0+cu111)\n",
            "Requirement already satisfied: numpy>=1.17 in /usr/local/lib/python3.7/dist-packages (from snntorch) (1.19.5)\n",
            "Requirement already satisfied: matplotlib in /usr/local/lib/python3.7/dist-packages (from snntorch) (3.2.2)\n",
            "Requirement already satisfied: typing-extensions in /usr/local/lib/python3.7/dist-packages (from torch>=1.1.0->snntorch) (3.10.0.2)\n",
            "Requirement already satisfied: pyparsing!=2.0.4,!=2.1.2,!=2.1.6,>=2.0.1 in /usr/local/lib/python3.7/dist-packages (from matplotlib->snntorch) (3.0.6)\n",
            "Requirement already satisfied: cycler>=0.10 in /usr/local/lib/python3.7/dist-packages (from matplotlib->snntorch) (0.11.0)\n",
            "Requirement already satisfied: kiwisolver>=1.0.1 in /usr/local/lib/python3.7/dist-packages (from matplotlib->snntorch) (1.3.2)\n",
            "Requirement already satisfied: python-dateutil>=2.1 in /usr/local/lib/python3.7/dist-packages (from matplotlib->snntorch) (2.8.2)\n",
            "Requirement already satisfied: six>=1.5 in /usr/local/lib/python3.7/dist-packages (from python-dateutil>=2.1->matplotlib->snntorch) (1.15.0)\n",
            "Requirement already satisfied: pytz>=2017.2 in /usr/local/lib/python3.7/dist-packages (from pandas->snntorch) (2018.9)\n"
          ]
        }
      ],
      "source": [
        "!pip install snntorch"
      ]
    },
    {
      "cell_type": "code",
      "execution_count": null,
      "metadata": {
        "id": "QXZ6Tuqc9Q-l"
      },
      "outputs": [],
      "source": [
        "# imports\n",
        "import snntorch as snn\n",
        "from snntorch import spikeplot as splt\n",
        "from snntorch import spikegen\n",
        "\n",
        "import torch\n",
        "import torch.nn as nn\n",
        "from torch.utils.data import DataLoader\n",
        "from torchvision import datasets, transforms\n",
        "\n",
        "import matplotlib.pyplot as plt\n",
        "import numpy as np\n",
        "import itertools"
      ]
    },
    {
      "cell_type": "markdown",
      "metadata": {
        "id": "gt2xMbLY9dVE"
      },
      "source": [
        "# 1. A Recurrent Representation of SNNs"
      ]
    },
    {
      "cell_type": "markdown",
      "metadata": {
        "id": "v7haBG7nA_TC"
      },
      "source": [
        "In Tutorial 3, we derived a recursive representation of a leaky integrate-and-fire (LIF) neuron: \n",
        "\n",
        "$$U[t+1] = \\underbrace{\\beta U[t]}_\\text{decay} + \\underbrace{WX[t+1]}_\\text{input} - \\underbrace{R[t]}_\\text{reset} \\tag{1}$$\n",
        "\n",
        "where the input synaptic current is interpreted as $I_{\\rm in}[t] = WX[t]$, and $X[t]$ may be some arbitrary input of spikes, a step/time-varying voltage, or unweighted step/time-varying current. Spiking is represented with the following equation, where if the membrane potential exceeds the threshold, a spike is emitted:\n",
        "\n",
        "$$S[t] = \\begin{cases} 1, &\\text{if}~U[t] > U_{\\rm thr} \\\\\n",
        "0, &\\text{otherwise}\\end{cases} \\tag{2}$$\n",
        "\n",
        "This formulation of a spiking neuron in a discrete, recursive form is almost perfectly poised to take advantage of the developments in training recurrent neural networks (RNNs) and sequence-based models. This is illustrated using an *implicit* recurrent connection for the decay of the membrane potential, and is distinguished from *explicit* recurrence where the output spike $S_{\\rm out}$ is fed back to the input. In the figure below, the connection weighted by $-U_{\\rm thr}$ represents the reset mechanism $R[t]$.\n",
        "\n",
        "\n",
        "<center>\n",
        "<img src='https://github.com/jeshraghian/snntorch/blob/master/docs/_static/img/examples/tutorial5/unrolled_2.png?raw=true' width=\"800\">\n",
        "</center>\n",
        "\n",
        "The benefit of an unrolled graph is that it provides an explicit description of how computations are performed. The process of unfolding illustrates the flow of information forward in time (from left to right) to compute outputs and losses, and backward in time to compute gradients. The more time steps that are simulated, the deeper the graph becomes. \n",
        "\n",
        "Conventional RNNs treat $\\beta$ as a learnable parameter. This is also possible for SNNs, though by default, they are treated as hyperparameters. This replaces the vanishing and exploding gradient problems with a hyperparameter search. A future tutorial will describe how to make $\\beta$ a learnable parameter."
      ]
    },
    {
      "cell_type": "markdown",
      "metadata": {
        "id": "Wgzf83HE2BeB"
      },
      "source": [
        "# 2. The Non-Differentiability of Spikes\n",
        "## 2.1 Training Using the Backprop Algorithm\n",
        "\n",
        "An alternative way to represent the relationship between $S$ and $U$ in $(2)$ is:\n",
        "\n",
        "$$S[t] = \\Theta(U[t] - U_{\\rm thr}) \\tag{3}$$ \n",
        "\n",
        "where $\\Theta(\\cdot)$ is the Heaviside step function:\n",
        "\n",
        "<center>\n",
        "<img src='https://github.com/jeshraghian/snntorch/blob/master/docs/_static/img/examples/tutorial3/3_2_spike_descrip.png?raw=true' width=\"600\">\n",
        "</center>\n",
        "\n",
        "Training a network in this form poses some serious challenges. Consider a single, isolated time step of the computational graph from the previous figure titled *\"Recurrent representation of spiking neurons\"*, as shown in the *forward pass* below:\n",
        "\n",
        "<center>\n",
        "<img src='https://github.com/jeshraghian/snntorch/blob/master/docs/_static/img/examples/tutorial5/non-diff.png?raw=true' width=\"400\">\n",
        "</center>\n",
        "\n",
        "The goal is to train the network using the gradient of the loss with respect to the weights, such that the weights are updated to minimize the loss. The backpropagation algorithm achieves this using the chain rule:\n",
        "\n",
        "$$\\frac{\\partial \\mathcal{L}}{\\partial W} = \n",
        "\\frac{\\partial \\mathcal{L}}{\\partial S}\n",
        "\\underbrace{\\frac{\\partial S}{\\partial U}}_{\\{0, \\infty\\}}\n",
        "\\frac{\\partial U}{\\partial I}\\\n",
        "\\frac{\\partial I}{\\partial W}\\ \\tag{4}$$\n",
        "\n",
        "From $(1)$, $\\partial I/\\partial W=X$, and $\\partial U/\\partial I=1$. While we have not yet defined a loss function, we can assume $\\partial \\mathcal{L}/\\partial S$ has an analytical solution, in a similar form to the cross-entropy or mean-square error loss (more on that shortly). \n",
        "\n",
        "However, the term that we are going to grapple with is $\\partial S/\\partial U$. The derivative of the Heaviside step function from $(3)$ is the Dirac Delta function, which evaluates to 0 everywhere, except at the threshold $U_{\\rm thr} = \\theta$, where it tends to infinity. This means the gradient will almost always be nulled to zero (or saturated if $U$ sits precisely at the threshold), and no learning can take place. This is known as the **dead neuron problem**. "
      ]
    },
    {
      "cell_type": "markdown",
      "metadata": {
        "id": "mVrM7nLOMvgx"
      },
      "source": [
        "## 2.2 Overcoming the Dead Neuron Problem\n",
        "\n",
        "The most common way to address the dead neuron problem is to keep the Heaviside function as it is during the forward pass, but swap the derivative term $\\partial S/\\partial U$ for something that does not kill the learning process during the backward pass, which will be denoted $\\partial \\tilde{S}/\\partial U$. This might sound odd, but it turns out that neural networks are quite robust to such approximations. This is commonly known as the *surrogate gradient* approach.\n",
        "\n",
        "A variety of options exist to using surrogate gradients, and we will dive into more detail on these methods in [Tutorial 6](https://snntorch.readthedocs.io/en/latest/tutorials/index.html). For now, a simple approximation is applied where $\\partial \\tilde{S}/\\partial U$ is set to $S$ itself.\n",
        "\n",
        "If $S$ does not spike, then the spike-gradient term is $0$. If $S$ spikes, then the gradient term is $1$. This simply looks like the gradient of a ReLU function shifted to the threshold. This method is known as the *Spike-Operator* approach and is described in more detail in the following paper:\n",
        "\n",
        "> <cite> Jason K. Eshraghian, Max Ward, Xinxin Wang, Gregor Lenz, Girish Dwivedi, Mohammed Bennamoun, Doo Seok Jeong, and Wei D. Lu. \"Training Spiking Neural Networks Using Lessons From Deep Learning\". arXiv, 2021. </cite>\n",
        "\n",
        "Inutitively, *Spike Operator* splits the gradient calculation into two chunks: one where the neuron is spiking, and one where it is silent:\n",
        "* **Silent:** If the neuron is silent, then the spike response can be obtained by scaling the membrane by 0: $S = U \\times 0 \\implies \\partial \\tilde{S}/\\partial U = 0$. \n",
        "* **Spiking:** If the neuron is spiking, then assume $U \\approx U_{\\rm thr}$, normalize $U_{\\rm thr}=1$, and the spike response can be obtained by scaling the membrane by 1: $S = U \\times 1 \\implies \\partial \\tilde{S}/\\partial U = 1$, where the tilde above $\\tilde{S}$ implies an approximation.\n",
        "\n",
        "This is summarized as follows:\n",
        "\n",
        "$$\\frac{\\partial \\tilde{S}}{\\partial U} \\leftarrow S = \\begin{cases} 1, &\\text{if}~U> U_{\\rm thr} \\\\\n",
        "0, &\\text{otherwise}\\end{cases} $$\n",
        "\n",
        "where the left arrow denotes substitution. \n",
        "\n",
        "The same neuron model described in  $(1)-(2)$ (a.k.a., `snn.Leaky` neuron from Tutorial 3) is implemented in PyTorch below. Don't worry if you don't understand this. This will be condensed into one line of code using snnTorch in a moment:"
      ]
    },
    {
      "cell_type": "code",
      "execution_count": null,
      "metadata": {
        "id": "mfJUm-6T8aG2"
      },
      "outputs": [],
      "source": [
        "# Leaky neuron model, overriding the backward pass with a custom function\n",
        "class LeakySurrogate(nn.Module):\n",
        "  def __init__(self, beta, threshold=1.0):\n",
        "      super(LeakySurrogate, self).__init__()\n",
        "\n",
        "      # initialize decay rate beta and threshold\n",
        "      self.beta = beta\n",
        "      self.threshold = threshold\n",
        "      self.spike_op = self.SpikeOperator.apply\n",
        "  \n",
        "  # the forward function is called each time we call Leaky\n",
        "  def forward(self, input_, mem):\n",
        "    spk = self.spike_op((mem-self.threshold))  # call the Heaviside function\n",
        "    reset = (spk * self.threshold).detach() # removes spike_op gradient from reset\n",
        "    mem = self.beta * mem + input_ - reset # Eq (1)\n",
        "    return spk, mem\n",
        "\n",
        "  # Forward pass: Heaviside function\n",
        "  # Backward pass: Override Dirac Delta with the Spike itself\n",
        "  @staticmethod\n",
        "  class SpikeOperator(torch.autograd.Function):\n",
        "      @staticmethod\n",
        "      def forward(ctx, mem):\n",
        "          spk = (mem > 0).float() # Heaviside on the forward pass: Eq(2)\n",
        "          ctx.save_for_backward(spk)  # store the spike for use in the backward pass\n",
        "          return spk\n",
        "\n",
        "      @staticmethod\n",
        "      def backward(ctx, grad_output):\n",
        "          (spk,) = ctx.saved_tensors  # retrieve the spike \n",
        "          grad = grad_output * spk # scale the gradient by the spike: 1/0\n",
        "          return grad"
      ]
    },
    {
      "cell_type": "markdown",
      "metadata": {
        "id": "1zkc1Mmp97OX"
      },
      "source": [
        "Note that the reset mechanism is detached from the computational graph, as the surrogate gradient should only be applied to $\\partial S/\\partial U$, and not $\\partial R/\\partial U$.\n",
        "\n",
        "The above neuron is instantiated using:"
      ]
    },
    {
      "cell_type": "code",
      "execution_count": null,
      "metadata": {
        "id": "EV3lU6soOnW6"
      },
      "outputs": [],
      "source": [
        "lif1 = LeakySurrogate(beta=0.9)"
      ]
    },
    {
      "cell_type": "markdown",
      "metadata": {
        "id": "StklvL_gPns1"
      },
      "source": [
        "This neuron can be simulated using a for-loop, just as in previous tutorials, while PyTorch's automatic differentation (autodiff) mechanism keeps track of the gradient in the background.\n",
        "\n",
        "Alternatively, the same thing can be accomplished by calling the `snn.Leaky` neuron. \n",
        "In fact, every time you call any neuron model from snnTorch, the *Spike Operator* surrogate gradient is applied to it by default:"
      ]
    },
    {
      "cell_type": "code",
      "execution_count": null,
      "metadata": {
        "id": "8Wa7N31mP9Va"
      },
      "outputs": [],
      "source": [
        "lif1 = snn.Leaky(beta=0.9)"
      ]
    },
    {
      "cell_type": "markdown",
      "metadata": {
        "id": "9EF70Xi1RX6w"
      },
      "source": [
        "If you would like to explore how this neuron behaves, then refer to [Tutorial 3](https://snntorch.readthedocs.io/en/latest/tutorials/index.html)."
      ]
    },
    {
      "cell_type": "markdown",
      "metadata": {
        "id": "cxl1UYSCRzzl"
      },
      "source": [
        "#3. Backprop Through Time\n",
        "Equation $(4)$ only calculates the gradient for one single time step (referred to as the *immediate influence* in the figure below), but the backpropagation through time (BPTT) algorithm calculates the gradient from the loss to *all* descendants and sums them together. \n",
        "\n",
        "The weight $W$ is applied at every time step, and so imagine a loss is also calculated at every time step. The influence of the weight on present and historical losses must be summed together to define the global gradient:\n",
        "\n",
        "$$\\frac{\\partial \\mathcal{L}}{\\partial W}=\\sum_t \\frac{\\partial\\mathcal{L}[t]}{\\partial W} = \n",
        "\\sum_t \\sum_{s\\leq t} \\frac{\\partial\\mathcal{L}[t]}{\\partial W[s]}\\frac{\\partial W[s]}{\\partial W} \\tag{5} $$\n",
        "\n",
        "The point of $(5)$ is to ensure causality: by constraining $s\\leq t$, we only account for the contribution of immediate and prior influences of $W$ on the loss. A recurrent system constrains the weight to be shared across all steps: $W[0]=W[1] =~... ~ = W$. Therefore, a change in $W[s]$ will have the same effect on all $W$, which implies that $\\partial W[s]/\\partial W=1$:\n",
        "\n",
        "$$\\frac{\\partial \\mathcal{L}}{\\partial W}=\n",
        "\\sum_t \\sum_{s\\leq t} \\frac{\\partial\\mathcal{L}[t]}{\\partial W[s]} \\tag{6} $$\n",
        "\n",
        "As an example, isolate the prior influence due to $s = t-1$ *only*; this means the backward pass must track back in time by one step. The influence of $W[t-1]$ on the loss can be written as:\n",
        "\n",
        "$$\\frac{\\partial \\mathcal{L}[t]}{\\partial W[t-1]} = \n",
        "\\frac{\\partial \\mathcal{L}[t]}{\\partial S[t]}\n",
        "\\underbrace{\\frac{\\partial \\tilde{S}[t]}{\\partial U[t]}}_{S[t]}\n",
        "\\underbrace{\\frac{\\partial U[t]}{\\partial U[t-1]}}_\\beta\n",
        "\\underbrace{\\frac{\\partial U[t-1]}{\\partial I[t-1]}}_1\n",
        "\\underbrace{\\frac{\\partial I[t-1]}{\\partial W[t-1]}}_{X[t]} \\tag{7}$$\n",
        "\n",
        "We have already dealt with all of these terms from $(4)$, except for $\\partial U[t]/\\partial U[t-1]$. From $(1)$, this temporal derivative term simply evaluates to $\\beta$. So if we really wanted to, we now know enough to painstakingly calculate the derivative of every weight at every time step by hand, and it'd look something like this for a single neuron:\n",
        "\n",
        "<center>\n",
        "<img src='https://github.com/jeshraghian/snntorch/blob/master/docs/_static/img/examples/tutorial5/bptt.png?raw=true' width=\"600\">\n",
        "</center>\n",
        "\n",
        "But thankfully, PyTorch's autodiff takes care of that in the background for us.  "
      ]
    },
    {
      "cell_type": "markdown",
      "metadata": {
        "id": "c_42-CbsZ1FM"
      },
      "source": [
        "# 4. Setting up the Loss / Output Decoding\n",
        "In a conventional, non-spiking neural network, a supervised, multi-class classification problem takes the neuron with the highest activation and treats that as the predicted class. \n",
        "\n",
        "In a spiking neural net, there are several options to interpreting the output spikes. The most common approaches are:\n",
        "* **Rate coding:** Take the neuron with the highest firing rate (or spike count) as the predicted class\n",
        "* **Latency coding:** Take the neuron that fires *first* as the predicted class\n",
        "\n",
        "This might feel familiar to [Tutorial 1 on neural encoding](https://snntorch.readthedocs.io/en/latest/tutorials/index.html). The difference is that, here, we are interpreting (decoding) the output spikes, rather than encoding/converting raw input data into spikes.\n",
        "\n",
        "Let's focus on a rate code. When input data is passed to the network, we want the correct neuron class to emit the most spikes over the course of the simulation run. This then corresponds to the highest average firing frequency. One way to achieve this is to increase the membrane potential of the correct class to $U>U_{\\rm thr}$, and that of incorrect classes to $U<U_{\\rm thr}$. Applying the target to $U$ serves as a proxy for modulating spiking behavior from $S$.\n",
        "\n",
        "This can be implemented by taking the softmax of the membrane potential for output neurons, where $C$ is the number of output classes:\n",
        "\n",
        "$$p_i[t] = \\frac{e^{U_i[t]}}{\\sum_{i=0}^{C}e^{U_i[t]}} \\tag{8}$$\n",
        "\n",
        "The cross-entropy between $p_i$ and the target $y_i \\in \\{0,1\\}^C$, which is a one-hot target vector, is obtained using:\n",
        "\n",
        "$$\\mathcal{L}_{CE}[t] = \\sum_{i=0}^Cy_i{\\rm log}(p_i[t]) \\tag{9}$$\n",
        "\n",
        "The practical effect is that the membrane potential of the correct class is encouraged to increase while those of incorrect classes are reduced. In effect, this means the correct class is encouraged to fire at all time steps, while incorrect classes are suppressed at all steps. This may not be the most efficient implementation of an SNN, but it is among the simplest.\n",
        "\n",
        "This target is applied at every time step of the simulation, thus also generating a loss at every step. These losses are then summed together at the end of the simulation:\n",
        "\n",
        "$$\\mathcal{L}_{CE} = \\sum_t\\mathcal{L}_{CE}[t] \\tag{10}$$\n",
        "\n",
        "This is just one of many possible ways to apply a loss function to a spiking neural network. A variety of approaches are available to use in snnTorch (in the module `snn.functional`), and will be the subject of a future tutorial.\n",
        "\n",
        "With all of the background theory having been taken care of, let’s finally dive into\n",
        "training a fully-connected spiking neural net."
      ]
    },
    {
      "cell_type": "markdown",
      "metadata": {
        "id": "zqJdfllYbc16"
      },
      "source": [
        "# 5. Setting up the Static MNIST Dataset"
      ]
    },
    {
      "cell_type": "code",
      "execution_count": null,
      "metadata": {
        "id": "lI0GbgLgpkos",
        "pycharm": {
          "name": "#%%\n"
        }
      },
      "outputs": [],
      "source": [
        "# dataloader arguments\n",
        "batch_size = 128\n",
        "data_path='/data/mnist'\n",
        "\n",
        "dtype = torch.float\n",
        "device = torch.device(\"cuda\") if torch.cuda.is_available() else torch.device(\"cpu\")"
      ]
    },
    {
      "cell_type": "code",
      "execution_count": null,
      "metadata": {
        "id": "2fhRixcspkot",
        "pycharm": {
          "name": "#%%\n"
        }
      },
      "outputs": [],
      "source": [
        "# Define a transform\n",
        "transform = transforms.Compose([\n",
        "            transforms.Resize((28, 28)),\n",
        "            transforms.Grayscale(),\n",
        "            transforms.ToTensor(),\n",
        "            transforms.Normalize((0,), (1,))])\n",
        "\n",
        "mnist_train = datasets.MNIST(data_path, train=True, download=True, transform=transform)\n",
        "mnist_test = datasets.MNIST(data_path, train=False, download=True, transform=transform)"
      ]
    },
    {
      "cell_type": "markdown",
      "metadata": {
        "id": "RAM_dP887uTq"
      },
      "source": [
        "If the above code blocks throws an error, e.g. the MNIST servers are down, then uncomment the following code instead."
      ]
    },
    {
      "cell_type": "code",
      "execution_count": null,
      "metadata": {
        "id": "4jyJVqUNdXDo"
      },
      "outputs": [],
      "source": [
        "# # temporary dataloader if MNIST service is unavailable\n",
        "# !wget www.di.ens.fr/~lelarge/MNIST.tar.gz\n",
        "# !tar -zxvf MNIST.tar.gz\n",
        "\n",
        "# mnist_train = datasets.MNIST(root = './', train=True, download=True, transform=transform)\n",
        "# mnist_test = datasets.MNIST(root = './', train=False, download=True, transform=transform)"
      ]
    },
    {
      "cell_type": "code",
      "execution_count": null,
      "metadata": {
        "id": "aEtCbO6upkou",
        "pycharm": {
          "name": "#%%\n"
        }
      },
      "outputs": [],
      "source": [
        "# Create DataLoaders\n",
        "train_loader = DataLoader(mnist_train, batch_size=batch_size, shuffle=True, drop_last=True)\n",
        "test_loader = DataLoader(mnist_test, batch_size=batch_size, shuffle=True, drop_last=True)"
      ]
    },
    {
      "cell_type": "markdown",
      "metadata": {
        "id": "GhFyzySNeT_e"
      },
      "source": [
        "# 6. Define the Network"
      ]
    },
    {
      "cell_type": "code",
      "execution_count": null,
      "metadata": {
        "id": "Lud3kywn55fj"
      },
      "outputs": [],
      "source": [
        "# Network Architecture\n",
        "num_inputs = 28*28\n",
        "num_hidden = 1000\n",
        "num_outputs = 10\n",
        "\n",
        "# Temporal Dynamics\n",
        "num_steps = 25\n",
        "beta = 0.95"
      ]
    },
    {
      "cell_type": "code",
      "execution_count": null,
      "metadata": {
        "id": "-uquHLLmpkox",
        "pycharm": {
          "name": "#%%\n"
        }
      },
      "outputs": [],
      "source": [
        "# Define Network\n",
        "class Net(nn.Module):\n",
        "    def __init__(self):\n",
        "        super().__init__()\n",
        "\n",
        "        # Initialize layers\n",
        "        self.fc1 = nn.Linear(num_inputs, num_hidden)\n",
        "        self.lif1 = snn.Leaky(beta=beta)\n",
        "        self.fc2 = nn.Linear(num_hidden, num_outputs)\n",
        "        self.lif2 = snn.Leaky(beta=beta)\n",
        "\n",
        "    def forward(self, x):\n",
        "\n",
        "        # Initialize hidden states at t=0\n",
        "        mem1 = self.lif1.init_leaky()\n",
        "        mem2 = self.lif2.init_leaky()\n",
        "        \n",
        "        # Record the final layer\n",
        "        spk2_rec = []\n",
        "        mem2_rec = []\n",
        "\n",
        "        for step in range(num_steps):\n",
        "            cur1 = self.fc1(x)\n",
        "            spk1, mem1 = self.lif1(cur1, mem1)\n",
        "            cur2 = self.fc2(spk1)\n",
        "            spk2, mem2 = self.lif2(cur2, mem2)\n",
        "            spk2_rec.append(spk2)\n",
        "            mem2_rec.append(mem2)\n",
        "\n",
        "        return torch.stack(spk2_rec, dim=0), torch.stack(mem2_rec, dim=0)\n",
        "        \n",
        "# Load the network onto CUDA if available\n",
        "net = Net().to(device)"
      ]
    },
    {
      "cell_type": "markdown",
      "metadata": {
        "id": "Y0fHcAKfrav6"
      },
      "source": [
        "The code in the `forward()` function will only be called once the input argument `x` is explicitly passed into `net`.\n",
        "\n",
        "* `fc1` applies a linear transformation to all input pixels from the MNIST dataset;\n",
        "* `lif1` integrates the weighted input over time, emitting a spike if the threshold condition is met;\n",
        "* `fc2` applies a linear transformation to the output spikes of `lif1`;\n",
        "* `lif2` is another spiking neuron layer, integrating the weighted spikes over time."
      ]
    },
    {
      "cell_type": "markdown",
      "metadata": {
        "id": "6a7MdORCtIx4"
      },
      "source": [
        "# 7. Training the SNN"
      ]
    },
    {
      "cell_type": "markdown",
      "metadata": {
        "id": "6D-fhT3Q7nXM"
      },
      "source": [
        "## 7.1 Accuracy Metric\n",
        "Below is a function that takes a batch of data, counts up all the spikes from each neuron (i.e., a rate code over the simulation time), and compares the index of the highest count with the actual target. If they match, then the network correctly predicted the target."
      ]
    },
    {
      "cell_type": "code",
      "execution_count": null,
      "metadata": {
        "id": "-IxcnBAxpkoy",
        "pycharm": {
          "name": "#%%\n"
        }
      },
      "outputs": [],
      "source": [
        "# pass data into the network, sum the spikes over time\n",
        "# and compare the neuron with the highest number of spikes\n",
        "# with the target\n",
        "\n",
        "def print_batch_accuracy(data, targets, train=False):\n",
        "    output, _ = net(data.view(batch_size, -1))\n",
        "#    _, idx = output.sum(dim=0).max(1)\n",
        "##########################\n",
        "    idx = []\n",
        "    fastest_time = []\n",
        "    for i in range(batch_size):\n",
        "      tmp = output[:, i, :] #i번째 batch에 대한 output\n",
        "      for j in range(num_outputs): #각 output 뉴런에 대하여\n",
        "        if torch.nonzero(tmp[:, j]).numel() != 0:\n",
        "          tmp_fastest_time = torch.nonzero(tmp[:, j])[0][0] #가장 빨리 도착한 spike time 저장\n",
        "          fastest_time.append(tmp_fastest_time)\n",
        "        else:\n",
        "          fastest_time.append(24)\n",
        "      tmp_idx = np.argmin(fastest_time)\n",
        "      idx.append(tmp_idx)\n",
        "      fastest_time.clear()\n",
        "    idx = torch.tensor(idx)\n",
        "    idx = idx.to(device)\n",
        "##########################\n",
        "    acc = np.mean((targets == idx).detach().cpu().numpy())\n",
        "\n",
        "    if train:\n",
        "        print(f\"Train set accuracy for a single minibatch: {acc*100:.2f}%\")\n",
        "    else:\n",
        "        print(f\"Test set accuracy for a single minibatch: {acc*100:.2f}%\")\n",
        "\n",
        "def train_printer():\n",
        "    print(f\"Epoch {epoch}, Iteration {iter_counter}\")\n",
        "    print(f\"Train Set Loss: {loss_hist[counter]:.2f}\")\n",
        "    print(f\"Test Set Loss: {test_loss_hist[counter]:.2f}\")\n",
        "    print_batch_accuracy(data, targets, train=True)\n",
        "    print_batch_accuracy(test_data, test_targets, train=False)\n",
        "    print(\"\\n\")"
      ]
    },
    {
      "cell_type": "markdown",
      "metadata": {
        "id": "woJSGSx68tsd"
      },
      "source": [
        "## 7.2 Loss Definition\n",
        "The `nn.CrossEntropyLoss` function in PyTorch automatically handles taking the softmax of the output layer as well as generating a loss at the output. "
      ]
    },
    {
      "cell_type": "code",
      "execution_count": null,
      "metadata": {
        "id": "iqdVyjCNtdlp"
      },
      "outputs": [],
      "source": [
        "loss = nn.CrossEntropyLoss()"
      ]
    },
    {
      "cell_type": "markdown",
      "metadata": {
        "id": "b1fPgSoO9Jgb"
      },
      "source": [
        "## 7.3 Optimizer\n",
        "Adam is a robust optimizer that performs well on recurrent networks, so let's use that with a learning rate of $5\\times10^{-4}$. "
      ]
    },
    {
      "cell_type": "code",
      "execution_count": null,
      "metadata": {
        "id": "l62ZR51s9Lxg"
      },
      "outputs": [],
      "source": [
        "optimizer = torch.optim.Adam(net.parameters(), lr=5e-4, betas=(0.9, 0.999))"
      ]
    },
    {
      "cell_type": "markdown",
      "metadata": {
        "id": "GiqAVKzVbfPn"
      },
      "source": [
        "## 7.4 One Iteration of Training\n",
        "Take the first batch of data and load it onto CUDA if available."
      ]
    },
    {
      "cell_type": "code",
      "execution_count": null,
      "metadata": {
        "id": "Hv1q2-Mt9kVi"
      },
      "outputs": [],
      "source": [
        "data, targets = next(iter(train_loader))\n",
        "#####################################################\n",
        "def default_pars( **kwargs):\n",
        "    pars = {}\n",
        "    \n",
        "    ### typical neuron parameters###\n",
        "    pars['V_th']    = -55. # spike threshold [mV]\n",
        "    pars['V_reset'] = -75. #reset potential [mV]\n",
        "    pars['tau_m']   = 10. # membrane time constant [ms]\n",
        "    pars['g_L']     = 10. #leak conductance [nS]\n",
        "    pars['V_init']  = -65. # initial potential [mV]\n",
        "    pars['V_L']     = -75. #leak reversal potential [mV]\n",
        "    pars['tref']    = 2. # refractory time (ms)\n",
        "\n",
        "    ### simulation parameters ###\n",
        "    pars['T'] = 400. # Total duration of simulation [ms]\n",
        "    pars['dt'] = .1  # Simulation time step [ms]\n",
        "    \n",
        "    ### external parameters if any ###\n",
        "    for k in kwargs:\n",
        "        pars[k] = kwargs[k]\n",
        "    \n",
        "    pars['range_t'] = np.arange(0, pars['T'], pars['dt']) # Vector of discretized time points [ms]\n",
        "        \n",
        "    return pars\n",
        "\n",
        "def my_GWN(pars, sig, myseed=False):\n",
        "    '''\n",
        "    Expects:\n",
        "    pars       : parameter dictionary\n",
        "    sig        : noise amplitute\n",
        "    myseed     : random seed. int or boolean\n",
        "    \n",
        "    Returns:\n",
        "    I          : Gaussian white noise input\n",
        "    '''\n",
        "    \n",
        "    # Retrieve simulation parameters\n",
        "    dt, range_t = pars['dt'], pars['range_t']\n",
        "    Lt = range_t.size\n",
        "    \n",
        "    # set random seed\n",
        "    if myseed:\n",
        "        np.random.seed(seed=myseed) \n",
        "    else:\n",
        "        np.random.seed()\n",
        "        \n",
        "    #generate GWN\n",
        "    I =  sig * np.random.normal(0, 1, size=(batch_size, 1, 28, 28)).astype('f')\n",
        "    \n",
        "    return I\n",
        "\n",
        "pars = default_pars()\n",
        "sig_ou = 0.1\n",
        "\n",
        "import random\n",
        "data += my_GWN(pars, sig=sig_ou, myseed = random.randint(1, 1000))\n",
        "#####################################################\n",
        "data = data.to(device)\n",
        "targets = targets.to(device)"
      ]
    },
    {
      "cell_type": "markdown",
      "metadata": {
        "id": "cFahTbAv-Vtt"
      },
      "source": [
        "Flatten the input data to a vector of size $784$ and pass it into the network."
      ]
    },
    {
      "cell_type": "code",
      "execution_count": null,
      "metadata": {
        "id": "lltqTEXE92V-",
        "colab": {
          "base_uri": "https://localhost:8080/"
        },
        "outputId": "5c93396b-a323-4cf4-a9d1-93c5bc8f68c7"
      },
      "outputs": [
        {
          "output_type": "stream",
          "name": "stdout",
          "text": [
            "torch.Size([25, 128, 10])\n",
            "tensor([[[[-4.0000e-02,  6.1917e-02,  6.9834e-02,  ...,  8.5452e-02,\n",
            "           -9.1689e-02,  1.0665e-01],\n",
            "          [ 3.7417e-02, -8.7877e-02,  2.7032e-02,  ..., -6.4106e-03,\n",
            "           -4.9309e-02,  5.3074e-02],\n",
            "          [ 1.6759e-02,  1.4798e-01,  1.9267e-02,  ..., -1.3186e-01,\n",
            "            1.5478e-02, -1.2375e-02],\n",
            "          ...,\n",
            "          [-5.9930e-03, -2.9355e-02,  1.0877e-01,  ..., -5.1459e-02,\n",
            "            8.8241e-02, -1.4252e-01],\n",
            "          [ 6.4910e-02,  2.0324e-02, -4.0383e-02,  ...,  7.6360e-02,\n",
            "            1.0754e-01,  8.3402e-02],\n",
            "          [ 9.4338e-02, -3.4031e-03, -3.1876e-02,  ...,  3.8686e-02,\n",
            "            1.8928e-01, -2.3874e-01]]],\n",
            "\n",
            "\n",
            "        [[[ 2.5096e-01, -1.7945e-01,  4.3325e-02,  ...,  3.7967e-02,\n",
            "            1.0665e-01, -5.5193e-02],\n",
            "          [-1.0647e-01,  6.5867e-02,  2.2921e-02,  ...,  4.3953e-02,\n",
            "           -5.8145e-02, -2.3978e-02],\n",
            "          [ 1.2021e-01, -4.2471e-02, -1.5080e-02,  ...,  9.3748e-02,\n",
            "            6.0453e-02, -1.5611e-01],\n",
            "          ...,\n",
            "          [ 9.6646e-02,  5.6558e-02, -8.3146e-02,  ..., -9.1288e-02,\n",
            "           -2.7756e-02, -6.3445e-02],\n",
            "          [-4.7217e-02,  1.0586e-01,  7.2568e-02,  ...,  1.4280e-01,\n",
            "           -2.2728e-01,  8.6057e-02],\n",
            "          [-1.7948e-02, -2.5482e-02,  1.4424e-01,  ...,  1.3275e-01,\n",
            "            2.0439e-02,  9.6351e-02]]],\n",
            "\n",
            "\n",
            "        [[[ 3.9256e-02,  1.5684e-01,  3.6647e-02,  ...,  5.4063e-02,\n",
            "            3.8935e-02, -8.8870e-02],\n",
            "          [ 9.9134e-02, -3.5307e-02, -3.6713e-02,  ...,  5.0665e-03,\n",
            "           -2.0342e-02, -1.8153e-02],\n",
            "          [ 1.5192e-01, -2.8235e-02, -1.0374e-01,  ...,  2.7489e-02,\n",
            "            2.3786e-01,  2.4023e-02],\n",
            "          ...,\n",
            "          [ 3.2010e-02, -2.4634e-02,  2.6871e-02,  ...,  8.7301e-02,\n",
            "           -2.7381e-01, -3.7522e-03],\n",
            "          [ 4.0693e-03, -1.5719e-01, -7.3110e-02,  ..., -1.0580e-02,\n",
            "           -2.3162e-01,  1.5692e-01],\n",
            "          [ 7.0010e-03, -4.8027e-02,  6.0110e-05,  ..., -8.0395e-03,\n",
            "           -6.5144e-02,  3.8634e-02]]],\n",
            "\n",
            "\n",
            "        ...,\n",
            "\n",
            "\n",
            "        [[[-1.6047e-01,  1.1050e-01,  1.8520e-01,  ...,  1.1929e-01,\n",
            "            6.6921e-02,  4.8369e-02],\n",
            "          [ 4.3877e-02,  4.1885e-02, -8.9976e-02,  ..., -5.4875e-02,\n",
            "           -8.6593e-02, -1.7648e-01],\n",
            "          [-9.5486e-03,  3.1381e-02, -5.8505e-02,  ...,  1.5299e-01,\n",
            "            4.3164e-03,  5.4702e-02],\n",
            "          ...,\n",
            "          [-7.6624e-02, -5.7925e-02,  1.0227e-01,  ...,  1.8711e-01,\n",
            "           -7.4842e-03, -1.8646e-02],\n",
            "          [-1.5151e-01, -7.9430e-02, -8.1446e-02,  ..., -5.5659e-02,\n",
            "            9.0416e-02,  5.5450e-03],\n",
            "          [ 6.1563e-02, -4.1754e-03, -7.6293e-02,  ..., -1.1942e-01,\n",
            "            3.0391e-02, -3.6627e-02]]],\n",
            "\n",
            "\n",
            "        [[[-1.3284e-01,  4.0901e-02, -1.6068e-02,  ..., -3.6513e-02,\n",
            "           -2.2313e-01,  1.0087e-02],\n",
            "          [-1.0995e-02, -2.6098e-02, -1.1308e-02,  ...,  1.9486e-02,\n",
            "            9.2882e-02, -2.0281e-02],\n",
            "          [-1.0958e-01,  5.1935e-02, -8.3409e-03,  ...,  6.4745e-02,\n",
            "            1.0135e-02, -5.5259e-02],\n",
            "          ...,\n",
            "          [ 1.6801e-02, -8.0865e-02, -2.0853e-01,  ...,  1.6530e-01,\n",
            "           -4.3576e-02,  4.5216e-02],\n",
            "          [ 3.1299e-02, -1.5563e-01,  1.9210e-01,  ..., -1.0839e-01,\n",
            "            9.4805e-02, -7.0853e-02],\n",
            "          [ 1.2962e-01, -1.6510e-02,  1.4128e-01,  ..., -5.8656e-02,\n",
            "           -2.0454e-01,  2.9337e-02]]],\n",
            "\n",
            "\n",
            "        [[[ 1.0040e-01,  8.3501e-02,  5.5777e-03,  ..., -7.0654e-02,\n",
            "            5.9375e-02,  1.7690e-01],\n",
            "          [ 3.2038e-02,  5.8067e-02,  2.0800e-01,  ...,  1.0220e-01,\n",
            "           -2.2138e-02,  1.1057e-01],\n",
            "          [-1.1608e-02,  4.1391e-02, -3.4134e-02,  ...,  1.0769e-01,\n",
            "           -2.5678e-02,  6.3131e-02],\n",
            "          ...,\n",
            "          [-4.5533e-04, -9.0768e-02, -5.2770e-02,  ...,  1.1762e-02,\n",
            "            7.2478e-02, -2.2815e-01],\n",
            "          [-1.5148e-01,  9.9182e-02, -2.7551e-02,  ..., -2.9445e-01,\n",
            "            5.1923e-02, -2.1574e-01],\n",
            "          [ 1.3697e-01, -4.7962e-02,  6.2565e-02,  ..., -6.5159e-05,\n",
            "            1.0405e-01, -8.8351e-02]]]], device='cuda:0')\n"
          ]
        }
      ],
      "source": [
        "spk_rec, mem_rec = net(data.view(batch_size, -1))\n",
        "print(mem_rec.size())\n",
        "print(data)"
      ]
    },
    {
      "cell_type": "markdown",
      "metadata": {
        "id": "wd_qv6xD-lCb"
      },
      "source": [
        "The recording of the membrane potential is taken across:\n",
        "* 25 time steps\n",
        "* 128 samples of data\n",
        "* 10 output neurons\n",
        "\n",
        "We wish to calculate the loss at every time step, and sum these up together, as per Equation $(10)$:"
      ]
    },
    {
      "cell_type": "code",
      "execution_count": null,
      "metadata": {
        "id": "nsnH8y5G-D-z",
        "colab": {
          "base_uri": "https://localhost:8080/"
        },
        "outputId": "0b9bb27f-b497-4821-c6a4-5b1e194c4f6a"
      },
      "outputs": [
        {
          "output_type": "stream",
          "name": "stdout",
          "text": [
            "Training loss: 62.574\n"
          ]
        }
      ],
      "source": [
        "# initialize the total loss value\n",
        "loss_val = torch.zeros((1), dtype=dtype, device=device)\n",
        "\n",
        "# sum loss at every step\n",
        "for step in range(num_steps):\n",
        "  loss_val += loss(mem_rec[step], targets)\n",
        "\n",
        "print(f\"Training loss: {loss_val.item():.3f}\")"
      ]
    },
    {
      "cell_type": "markdown",
      "metadata": {
        "id": "Q4r0sKMV_4ri"
      },
      "source": [
        "The loss is quite large, because it is summed over 25 time steps. The accuracy is also bad (it should be roughly around 10%) as the network is untrained:"
      ]
    },
    {
      "cell_type": "code",
      "execution_count": null,
      "metadata": {
        "id": "qetPvz7mAArd",
        "colab": {
          "base_uri": "https://localhost:8080/"
        },
        "outputId": "3072baad-fb86-4501-9624-5d66b8885b95"
      },
      "outputs": [
        {
          "output_type": "stream",
          "name": "stdout",
          "text": [
            "Train set accuracy for a single minibatch: 8.59%\n"
          ]
        }
      ],
      "source": [
        "print_batch_accuracy(data, targets, train=True)"
      ]
    },
    {
      "cell_type": "markdown",
      "metadata": {
        "id": "fUcR0GcUAtPn"
      },
      "source": [
        "A single weight update is applied to the network as follows:"
      ]
    },
    {
      "cell_type": "code",
      "execution_count": null,
      "metadata": {
        "id": "WxyBhsmlAsWM"
      },
      "outputs": [],
      "source": [
        "  # clear previously stored gradients\n",
        "  optimizer.zero_grad()\n",
        "\n",
        "  # calculate the gradients\n",
        "  loss_val.backward()\n",
        "\n",
        "  # weight update\n",
        "  optimizer.step()"
      ]
    },
    {
      "cell_type": "markdown",
      "metadata": {
        "id": "ubyude8eA5p9"
      },
      "source": [
        "Now, re-run the loss calculation and accuracy after a single iteration:"
      ]
    },
    {
      "cell_type": "code",
      "execution_count": null,
      "metadata": {
        "id": "l4ZquRR9A9He",
        "colab": {
          "base_uri": "https://localhost:8080/"
        },
        "outputId": "63c1fac6-0d47-4d4e-ccf3-97fcb5922997"
      },
      "outputs": [
        {
          "output_type": "stream",
          "name": "stdout",
          "text": [
            "Training loss: 48.237\n",
            "Train set accuracy for a single minibatch: 42.97%\n"
          ]
        }
      ],
      "source": [
        "# calculate new network outputs using the same data\n",
        "spk_rec, mem_rec = net(data.view(batch_size, -1))\n",
        "\n",
        "# initialize the total loss value\n",
        "loss_val = torch.zeros((1), dtype=dtype, device=device)\n",
        "\n",
        "# sum loss at every step\n",
        "for step in range(num_steps):\n",
        "  loss_val += loss(mem_rec[step], targets)\n",
        "\n",
        "print(f\"Training loss: {loss_val.item():.3f}\")\n",
        "print_batch_accuracy(data, targets, train=True)"
      ]
    },
    {
      "cell_type": "markdown",
      "metadata": {
        "id": "fbNPCNTSBaW3"
      },
      "source": [
        "After only one iteration, the loss should have decreased and accuracy should have increased. Note how membrane potential is used to calculate the cross entropy\n",
        "loss, and spike count is used for the measure of accuracy. It is also possible to use the spike count in the loss ([see Tutorial 6](https://snntorch.readthedocs.io/en/latest/tutorials/index.html))"
      ]
    },
    {
      "cell_type": "markdown",
      "metadata": {
        "id": "mVgKDes8BiXq"
      },
      "source": [
        "## 7.5 Training Loop\n",
        "\n",
        "Let's combine everything into a training loop. We will train for one epoch (though feel free to increase `num_epochs`), exposing our network to each sample of data once."
      ]
    },
    {
      "cell_type": "code",
      "execution_count": null,
      "metadata": {
        "id": "LMZMxEV8dcTC",
        "colab": {
          "base_uri": "https://localhost:8080/"
        },
        "outputId": "915df277-8bc2-4dca-c332-3cf0acb5329d"
      },
      "outputs": [
        {
          "output_type": "stream",
          "name": "stdout",
          "text": [
            "Epoch 0, Iteration 0\n",
            "Train Set Loss: 5.07\n",
            "Test Set Loss: 7.64\n",
            "Train set accuracy for a single minibatch: 92.19%\n",
            "Test set accuracy for a single minibatch: 88.28%\n",
            "\n",
            "\n",
            "Epoch 0, Iteration 50\n",
            "Train Set Loss: 6.65\n",
            "Test Set Loss: 4.32\n",
            "Train set accuracy for a single minibatch: 90.62%\n",
            "Test set accuracy for a single minibatch: 90.62%\n",
            "\n",
            "\n",
            "Epoch 0, Iteration 100\n",
            "Train Set Loss: 6.32\n",
            "Test Set Loss: 4.75\n",
            "Train set accuracy for a single minibatch: 90.62%\n",
            "Test set accuracy for a single minibatch: 89.06%\n",
            "\n",
            "\n",
            "Epoch 0, Iteration 150\n",
            "Train Set Loss: 7.71\n",
            "Test Set Loss: 7.15\n",
            "Train set accuracy for a single minibatch: 90.62%\n",
            "Test set accuracy for a single minibatch: 89.06%\n",
            "\n",
            "\n",
            "Epoch 0, Iteration 200\n",
            "Train Set Loss: 4.90\n",
            "Test Set Loss: 6.27\n",
            "Train set accuracy for a single minibatch: 91.41%\n",
            "Test set accuracy for a single minibatch: 86.72%\n",
            "\n",
            "\n",
            "Epoch 0, Iteration 250\n",
            "Train Set Loss: 7.59\n",
            "Test Set Loss: 5.81\n",
            "Train set accuracy for a single minibatch: 90.62%\n",
            "Test set accuracy for a single minibatch: 90.62%\n",
            "\n",
            "\n",
            "Epoch 0, Iteration 300\n",
            "Train Set Loss: 11.16\n",
            "Test Set Loss: 3.73\n",
            "Train set accuracy for a single minibatch: 91.41%\n",
            "Test set accuracy for a single minibatch: 89.84%\n",
            "\n",
            "\n",
            "Epoch 0, Iteration 350\n",
            "Train Set Loss: 9.82\n",
            "Test Set Loss: 3.22\n",
            "Train set accuracy for a single minibatch: 88.28%\n",
            "Test set accuracy for a single minibatch: 92.97%\n",
            "\n",
            "\n",
            "Epoch 0, Iteration 400\n",
            "Train Set Loss: 5.66\n",
            "Test Set Loss: 8.22\n",
            "Train set accuracy for a single minibatch: 92.97%\n",
            "Test set accuracy for a single minibatch: 87.50%\n",
            "\n",
            "\n",
            "Epoch 0, Iteration 450\n",
            "Train Set Loss: 8.75\n",
            "Test Set Loss: 4.18\n",
            "Train set accuracy for a single minibatch: 85.16%\n",
            "Test set accuracy for a single minibatch: 92.19%\n",
            "\n",
            "\n",
            "Epoch 1, Iteration 32\n",
            "Train Set Loss: 5.06\n",
            "Test Set Loss: 3.60\n",
            "Train set accuracy for a single minibatch: 89.06%\n",
            "Test set accuracy for a single minibatch: 89.06%\n",
            "\n",
            "\n",
            "Epoch 1, Iteration 82\n",
            "Train Set Loss: 3.45\n",
            "Test Set Loss: 5.11\n",
            "Train set accuracy for a single minibatch: 94.53%\n",
            "Test set accuracy for a single minibatch: 95.31%\n",
            "\n",
            "\n",
            "Epoch 1, Iteration 132\n",
            "Train Set Loss: 2.65\n",
            "Test Set Loss: 7.65\n",
            "Train set accuracy for a single minibatch: 91.41%\n",
            "Test set accuracy for a single minibatch: 87.50%\n",
            "\n",
            "\n",
            "Epoch 1, Iteration 182\n",
            "Train Set Loss: 11.87\n",
            "Test Set Loss: 5.44\n",
            "Train set accuracy for a single minibatch: 86.72%\n",
            "Test set accuracy for a single minibatch: 86.72%\n",
            "\n",
            "\n",
            "Epoch 1, Iteration 232\n",
            "Train Set Loss: 6.47\n",
            "Test Set Loss: 6.14\n",
            "Train set accuracy for a single minibatch: 89.84%\n",
            "Test set accuracy for a single minibatch: 89.06%\n",
            "\n",
            "\n",
            "Epoch 1, Iteration 282\n",
            "Train Set Loss: 6.85\n",
            "Test Set Loss: 3.23\n",
            "Train set accuracy for a single minibatch: 89.06%\n",
            "Test set accuracy for a single minibatch: 87.50%\n",
            "\n",
            "\n",
            "Epoch 1, Iteration 332\n",
            "Train Set Loss: 3.55\n",
            "Test Set Loss: 5.01\n",
            "Train set accuracy for a single minibatch: 91.41%\n",
            "Test set accuracy for a single minibatch: 89.06%\n",
            "\n",
            "\n",
            "Epoch 1, Iteration 382\n",
            "Train Set Loss: 3.95\n",
            "Test Set Loss: 3.87\n",
            "Train set accuracy for a single minibatch: 91.41%\n",
            "Test set accuracy for a single minibatch: 93.75%\n",
            "\n",
            "\n",
            "Epoch 1, Iteration 432\n",
            "Train Set Loss: 3.08\n",
            "Test Set Loss: 4.47\n",
            "Train set accuracy for a single minibatch: 94.53%\n",
            "Test set accuracy for a single minibatch: 88.28%\n",
            "\n",
            "\n",
            "Epoch 2, Iteration 14\n",
            "Train Set Loss: 5.80\n",
            "Test Set Loss: 5.48\n",
            "Train set accuracy for a single minibatch: 90.62%\n",
            "Test set accuracy for a single minibatch: 84.38%\n",
            "\n",
            "\n",
            "Epoch 2, Iteration 64\n",
            "Train Set Loss: 8.51\n",
            "Test Set Loss: 4.85\n",
            "Train set accuracy for a single minibatch: 91.41%\n",
            "Test set accuracy for a single minibatch: 90.62%\n",
            "\n",
            "\n",
            "Epoch 2, Iteration 114\n",
            "Train Set Loss: 7.01\n",
            "Test Set Loss: 4.07\n",
            "Train set accuracy for a single minibatch: 85.16%\n",
            "Test set accuracy for a single minibatch: 92.97%\n",
            "\n",
            "\n",
            "Epoch 2, Iteration 164\n",
            "Train Set Loss: 5.35\n",
            "Test Set Loss: 5.30\n",
            "Train set accuracy for a single minibatch: 89.06%\n",
            "Test set accuracy for a single minibatch: 91.41%\n",
            "\n",
            "\n",
            "Epoch 2, Iteration 214\n",
            "Train Set Loss: 6.22\n",
            "Test Set Loss: 6.92\n",
            "Train set accuracy for a single minibatch: 92.19%\n",
            "Test set accuracy for a single minibatch: 91.41%\n",
            "\n",
            "\n",
            "Epoch 2, Iteration 264\n",
            "Train Set Loss: 7.31\n",
            "Test Set Loss: 9.48\n",
            "Train set accuracy for a single minibatch: 92.19%\n",
            "Test set accuracy for a single minibatch: 86.72%\n",
            "\n",
            "\n",
            "Epoch 2, Iteration 314\n",
            "Train Set Loss: 5.59\n",
            "Test Set Loss: 2.63\n",
            "Train set accuracy for a single minibatch: 92.19%\n",
            "Test set accuracy for a single minibatch: 92.97%\n",
            "\n",
            "\n",
            "Epoch 2, Iteration 364\n",
            "Train Set Loss: 3.72\n",
            "Test Set Loss: 2.81\n",
            "Train set accuracy for a single minibatch: 92.19%\n",
            "Test set accuracy for a single minibatch: 88.28%\n",
            "\n",
            "\n",
            "Epoch 2, Iteration 414\n",
            "Train Set Loss: 5.14\n",
            "Test Set Loss: 3.61\n",
            "Train set accuracy for a single minibatch: 92.19%\n",
            "Test set accuracy for a single minibatch: 92.97%\n",
            "\n",
            "\n",
            "Epoch 2, Iteration 464\n",
            "Train Set Loss: 2.10\n",
            "Test Set Loss: 4.12\n",
            "Train set accuracy for a single minibatch: 89.06%\n",
            "Test set accuracy for a single minibatch: 92.97%\n",
            "\n",
            "\n",
            "Epoch 3, Iteration 46\n",
            "Train Set Loss: 4.44\n",
            "Test Set Loss: 3.16\n",
            "Train set accuracy for a single minibatch: 94.53%\n",
            "Test set accuracy for a single minibatch: 91.41%\n",
            "\n",
            "\n",
            "Epoch 3, Iteration 96\n",
            "Train Set Loss: 3.14\n",
            "Test Set Loss: 4.20\n",
            "Train set accuracy for a single minibatch: 95.31%\n",
            "Test set accuracy for a single minibatch: 88.28%\n",
            "\n",
            "\n",
            "Epoch 3, Iteration 146\n",
            "Train Set Loss: 8.66\n",
            "Test Set Loss: 4.45\n",
            "Train set accuracy for a single minibatch: 86.72%\n",
            "Test set accuracy for a single minibatch: 91.41%\n",
            "\n",
            "\n",
            "Epoch 3, Iteration 196\n",
            "Train Set Loss: 4.03\n",
            "Test Set Loss: 5.50\n",
            "Train set accuracy for a single minibatch: 91.41%\n",
            "Test set accuracy for a single minibatch: 88.28%\n",
            "\n",
            "\n",
            "Epoch 3, Iteration 246\n",
            "Train Set Loss: 6.40\n",
            "Test Set Loss: 1.53\n",
            "Train set accuracy for a single minibatch: 84.38%\n",
            "Test set accuracy for a single minibatch: 92.97%\n",
            "\n",
            "\n",
            "Epoch 3, Iteration 296\n",
            "Train Set Loss: 3.09\n",
            "Test Set Loss: 2.59\n",
            "Train set accuracy for a single minibatch: 91.41%\n",
            "Test set accuracy for a single minibatch: 90.62%\n",
            "\n",
            "\n",
            "Epoch 3, Iteration 346\n",
            "Train Set Loss: 4.95\n",
            "Test Set Loss: 3.34\n",
            "Train set accuracy for a single minibatch: 95.31%\n",
            "Test set accuracy for a single minibatch: 91.41%\n",
            "\n",
            "\n",
            "Epoch 3, Iteration 396\n",
            "Train Set Loss: 5.09\n",
            "Test Set Loss: 5.36\n",
            "Train set accuracy for a single minibatch: 84.38%\n",
            "Test set accuracy for a single minibatch: 89.06%\n",
            "\n",
            "\n",
            "Epoch 3, Iteration 446\n",
            "Train Set Loss: 5.03\n",
            "Test Set Loss: 4.69\n",
            "Train set accuracy for a single minibatch: 92.19%\n",
            "Test set accuracy for a single minibatch: 87.50%\n",
            "\n",
            "\n",
            "Epoch 4, Iteration 28\n",
            "Train Set Loss: 5.55\n",
            "Test Set Loss: 5.27\n",
            "Train set accuracy for a single minibatch: 88.28%\n",
            "Test set accuracy for a single minibatch: 89.06%\n",
            "\n",
            "\n",
            "Epoch 4, Iteration 78\n",
            "Train Set Loss: 3.26\n",
            "Test Set Loss: 5.88\n",
            "Train set accuracy for a single minibatch: 89.84%\n",
            "Test set accuracy for a single minibatch: 89.06%\n",
            "\n",
            "\n",
            "Epoch 4, Iteration 128\n",
            "Train Set Loss: 2.46\n",
            "Test Set Loss: 5.13\n",
            "Train set accuracy for a single minibatch: 90.62%\n",
            "Test set accuracy for a single minibatch: 88.28%\n",
            "\n",
            "\n",
            "Epoch 4, Iteration 178\n",
            "Train Set Loss: 1.74\n",
            "Test Set Loss: 5.68\n",
            "Train set accuracy for a single minibatch: 92.19%\n",
            "Test set accuracy for a single minibatch: 90.62%\n",
            "\n",
            "\n",
            "Epoch 4, Iteration 228\n",
            "Train Set Loss: 2.95\n",
            "Test Set Loss: 1.43\n",
            "Train set accuracy for a single minibatch: 96.09%\n",
            "Test set accuracy for a single minibatch: 94.53%\n",
            "\n",
            "\n",
            "Epoch 4, Iteration 278\n",
            "Train Set Loss: 2.95\n",
            "Test Set Loss: 6.30\n",
            "Train set accuracy for a single minibatch: 89.06%\n",
            "Test set accuracy for a single minibatch: 89.84%\n",
            "\n",
            "\n",
            "Epoch 4, Iteration 328\n",
            "Train Set Loss: 2.84\n",
            "Test Set Loss: 2.99\n",
            "Train set accuracy for a single minibatch: 87.50%\n",
            "Test set accuracy for a single minibatch: 87.50%\n",
            "\n",
            "\n",
            "Epoch 4, Iteration 378\n",
            "Train Set Loss: 1.57\n",
            "Test Set Loss: 4.58\n",
            "Train set accuracy for a single minibatch: 88.28%\n",
            "Test set accuracy for a single minibatch: 94.53%\n",
            "\n",
            "\n",
            "Epoch 4, Iteration 428\n",
            "Train Set Loss: 3.33\n",
            "Test Set Loss: 2.73\n",
            "Train set accuracy for a single minibatch: 85.16%\n",
            "Test set accuracy for a single minibatch: 93.75%\n",
            "\n",
            "\n",
            "Epoch 5, Iteration 10\n",
            "Train Set Loss: 3.27\n",
            "Test Set Loss: 2.84\n",
            "Train set accuracy for a single minibatch: 89.06%\n",
            "Test set accuracy for a single minibatch: 91.41%\n",
            "\n",
            "\n",
            "Epoch 5, Iteration 60\n",
            "Train Set Loss: 2.56\n",
            "Test Set Loss: 2.01\n",
            "Train set accuracy for a single minibatch: 92.19%\n",
            "Test set accuracy for a single minibatch: 87.50%\n",
            "\n",
            "\n",
            "Epoch 5, Iteration 110\n",
            "Train Set Loss: 6.33\n",
            "Test Set Loss: 7.98\n",
            "Train set accuracy for a single minibatch: 88.28%\n",
            "Test set accuracy for a single minibatch: 91.41%\n",
            "\n",
            "\n",
            "Epoch 5, Iteration 160\n",
            "Train Set Loss: 2.30\n",
            "Test Set Loss: 3.22\n",
            "Train set accuracy for a single minibatch: 90.62%\n",
            "Test set accuracy for a single minibatch: 93.75%\n",
            "\n",
            "\n",
            "Epoch 5, Iteration 210\n",
            "Train Set Loss: 1.72\n",
            "Test Set Loss: 3.62\n",
            "Train set accuracy for a single minibatch: 89.84%\n",
            "Test set accuracy for a single minibatch: 93.75%\n",
            "\n",
            "\n",
            "Epoch 5, Iteration 260\n",
            "Train Set Loss: 1.63\n",
            "Test Set Loss: 1.30\n",
            "Train set accuracy for a single minibatch: 90.62%\n",
            "Test set accuracy for a single minibatch: 94.53%\n",
            "\n",
            "\n",
            "Epoch 5, Iteration 310\n",
            "Train Set Loss: 1.31\n",
            "Test Set Loss: 2.50\n",
            "Train set accuracy for a single minibatch: 91.41%\n",
            "Test set accuracy for a single minibatch: 91.41%\n",
            "\n",
            "\n",
            "Epoch 5, Iteration 360\n",
            "Train Set Loss: 2.04\n",
            "Test Set Loss: 5.41\n",
            "Train set accuracy for a single minibatch: 91.41%\n",
            "Test set accuracy for a single minibatch: 91.41%\n",
            "\n",
            "\n",
            "Epoch 5, Iteration 410\n",
            "Train Set Loss: 5.76\n",
            "Test Set Loss: 0.99\n",
            "Train set accuracy for a single minibatch: 89.84%\n",
            "Test set accuracy for a single minibatch: 96.88%\n",
            "\n",
            "\n",
            "Epoch 5, Iteration 460\n",
            "Train Set Loss: 3.85\n",
            "Test Set Loss: 8.40\n",
            "Train set accuracy for a single minibatch: 91.41%\n",
            "Test set accuracy for a single minibatch: 85.16%\n",
            "\n",
            "\n",
            "Epoch 6, Iteration 42\n",
            "Train Set Loss: 2.87\n",
            "Test Set Loss: 4.99\n",
            "Train set accuracy for a single minibatch: 89.84%\n",
            "Test set accuracy for a single minibatch: 89.84%\n",
            "\n",
            "\n",
            "Epoch 6, Iteration 92\n",
            "Train Set Loss: 2.12\n",
            "Test Set Loss: 3.67\n",
            "Train set accuracy for a single minibatch: 95.31%\n",
            "Test set accuracy for a single minibatch: 93.75%\n",
            "\n",
            "\n",
            "Epoch 6, Iteration 142\n",
            "Train Set Loss: 2.32\n",
            "Test Set Loss: 1.54\n",
            "Train set accuracy for a single minibatch: 92.19%\n",
            "Test set accuracy for a single minibatch: 94.53%\n",
            "\n",
            "\n",
            "Epoch 6, Iteration 192\n",
            "Train Set Loss: 1.26\n",
            "Test Set Loss: 4.86\n",
            "Train set accuracy for a single minibatch: 92.19%\n",
            "Test set accuracy for a single minibatch: 94.53%\n",
            "\n",
            "\n",
            "Epoch 6, Iteration 242\n",
            "Train Set Loss: 0.93\n",
            "Test Set Loss: 1.87\n",
            "Train set accuracy for a single minibatch: 95.31%\n",
            "Test set accuracy for a single minibatch: 92.97%\n",
            "\n",
            "\n",
            "Epoch 6, Iteration 292\n",
            "Train Set Loss: 0.94\n",
            "Test Set Loss: 2.04\n",
            "Train set accuracy for a single minibatch: 96.88%\n",
            "Test set accuracy for a single minibatch: 93.75%\n",
            "\n",
            "\n",
            "Epoch 6, Iteration 342\n",
            "Train Set Loss: 2.35\n",
            "Test Set Loss: 1.88\n",
            "Train set accuracy for a single minibatch: 89.06%\n",
            "Test set accuracy for a single minibatch: 92.97%\n",
            "\n",
            "\n",
            "Epoch 6, Iteration 392\n",
            "Train Set Loss: 1.00\n",
            "Test Set Loss: 7.10\n",
            "Train set accuracy for a single minibatch: 93.75%\n",
            "Test set accuracy for a single minibatch: 89.84%\n",
            "\n",
            "\n",
            "Epoch 6, Iteration 442\n",
            "Train Set Loss: 2.88\n",
            "Test Set Loss: 6.39\n",
            "Train set accuracy for a single minibatch: 91.41%\n",
            "Test set accuracy for a single minibatch: 92.19%\n",
            "\n",
            "\n",
            "Epoch 7, Iteration 24\n",
            "Train Set Loss: 6.83\n",
            "Test Set Loss: 1.30\n",
            "Train set accuracy for a single minibatch: 90.62%\n",
            "Test set accuracy for a single minibatch: 92.19%\n",
            "\n",
            "\n",
            "Epoch 7, Iteration 74\n",
            "Train Set Loss: 3.50\n",
            "Test Set Loss: 9.22\n",
            "Train set accuracy for a single minibatch: 93.75%\n",
            "Test set accuracy for a single minibatch: 91.41%\n",
            "\n",
            "\n",
            "Epoch 7, Iteration 124\n",
            "Train Set Loss: 2.65\n",
            "Test Set Loss: 3.39\n",
            "Train set accuracy for a single minibatch: 92.97%\n",
            "Test set accuracy for a single minibatch: 93.75%\n",
            "\n",
            "\n",
            "Epoch 7, Iteration 174\n",
            "Train Set Loss: 1.40\n",
            "Test Set Loss: 2.91\n",
            "Train set accuracy for a single minibatch: 92.19%\n",
            "Test set accuracy for a single minibatch: 92.97%\n",
            "\n",
            "\n",
            "Epoch 7, Iteration 224\n",
            "Train Set Loss: 1.93\n",
            "Test Set Loss: 3.79\n",
            "Train set accuracy for a single minibatch: 89.84%\n",
            "Test set accuracy for a single minibatch: 92.97%\n",
            "\n",
            "\n",
            "Epoch 7, Iteration 274\n",
            "Train Set Loss: 2.34\n",
            "Test Set Loss: 5.53\n",
            "Train set accuracy for a single minibatch: 95.31%\n",
            "Test set accuracy for a single minibatch: 92.97%\n",
            "\n",
            "\n",
            "Epoch 7, Iteration 324\n",
            "Train Set Loss: 3.72\n",
            "Test Set Loss: 1.54\n",
            "Train set accuracy for a single minibatch: 93.75%\n",
            "Test set accuracy for a single minibatch: 92.19%\n",
            "\n",
            "\n",
            "Epoch 7, Iteration 374\n",
            "Train Set Loss: 2.33\n",
            "Test Set Loss: 5.97\n",
            "Train set accuracy for a single minibatch: 88.28%\n",
            "Test set accuracy for a single minibatch: 94.53%\n",
            "\n",
            "\n",
            "Epoch 7, Iteration 424\n",
            "Train Set Loss: 4.10\n",
            "Test Set Loss: 4.13\n",
            "Train set accuracy for a single minibatch: 92.19%\n",
            "Test set accuracy for a single minibatch: 96.09%\n",
            "\n",
            "\n",
            "Epoch 8, Iteration 6\n",
            "Train Set Loss: 1.39\n",
            "Test Set Loss: 2.32\n",
            "Train set accuracy for a single minibatch: 96.09%\n",
            "Test set accuracy for a single minibatch: 92.19%\n",
            "\n",
            "\n",
            "Epoch 8, Iteration 56\n",
            "Train Set Loss: 1.27\n",
            "Test Set Loss: 1.57\n",
            "Train set accuracy for a single minibatch: 92.97%\n",
            "Test set accuracy for a single minibatch: 89.84%\n",
            "\n",
            "\n",
            "Epoch 8, Iteration 106\n",
            "Train Set Loss: 0.93\n",
            "Test Set Loss: 5.23\n",
            "Train set accuracy for a single minibatch: 91.41%\n",
            "Test set accuracy for a single minibatch: 89.84%\n",
            "\n",
            "\n",
            "Epoch 8, Iteration 156\n",
            "Train Set Loss: 4.34\n",
            "Test Set Loss: 10.15\n",
            "Train set accuracy for a single minibatch: 93.75%\n",
            "Test set accuracy for a single minibatch: 87.50%\n",
            "\n",
            "\n",
            "Epoch 8, Iteration 206\n",
            "Train Set Loss: 4.44\n",
            "Test Set Loss: 2.31\n",
            "Train set accuracy for a single minibatch: 90.62%\n",
            "Test set accuracy for a single minibatch: 89.06%\n",
            "\n",
            "\n",
            "Epoch 8, Iteration 256\n",
            "Train Set Loss: 1.24\n",
            "Test Set Loss: 2.21\n",
            "Train set accuracy for a single minibatch: 90.62%\n",
            "Test set accuracy for a single minibatch: 94.53%\n",
            "\n",
            "\n",
            "Epoch 8, Iteration 306\n",
            "Train Set Loss: 0.88\n",
            "Test Set Loss: 1.33\n",
            "Train set accuracy for a single minibatch: 92.19%\n",
            "Test set accuracy for a single minibatch: 93.75%\n",
            "\n",
            "\n",
            "Epoch 8, Iteration 356\n",
            "Train Set Loss: 1.18\n",
            "Test Set Loss: 2.73\n",
            "Train set accuracy for a single minibatch: 89.84%\n",
            "Test set accuracy for a single minibatch: 94.53%\n",
            "\n",
            "\n",
            "Epoch 8, Iteration 406\n",
            "Train Set Loss: 3.15\n",
            "Test Set Loss: 1.29\n",
            "Train set accuracy for a single minibatch: 89.06%\n",
            "Test set accuracy for a single minibatch: 91.41%\n",
            "\n",
            "\n",
            "Epoch 8, Iteration 456\n",
            "Train Set Loss: 1.73\n",
            "Test Set Loss: 2.59\n",
            "Train set accuracy for a single minibatch: 92.97%\n",
            "Test set accuracy for a single minibatch: 92.19%\n",
            "\n",
            "\n",
            "Epoch 9, Iteration 38\n",
            "Train Set Loss: 1.81\n",
            "Test Set Loss: 8.53\n",
            "Train set accuracy for a single minibatch: 87.50%\n",
            "Test set accuracy for a single minibatch: 87.50%\n",
            "\n",
            "\n",
            "Epoch 9, Iteration 88\n",
            "Train Set Loss: 2.13\n",
            "Test Set Loss: 1.51\n",
            "Train set accuracy for a single minibatch: 92.19%\n",
            "Test set accuracy for a single minibatch: 89.06%\n",
            "\n",
            "\n",
            "Epoch 9, Iteration 138\n",
            "Train Set Loss: 2.26\n",
            "Test Set Loss: 3.65\n",
            "Train set accuracy for a single minibatch: 92.97%\n",
            "Test set accuracy for a single minibatch: 92.97%\n",
            "\n",
            "\n",
            "Epoch 9, Iteration 188\n",
            "Train Set Loss: 1.40\n",
            "Test Set Loss: 2.44\n",
            "Train set accuracy for a single minibatch: 89.84%\n",
            "Test set accuracy for a single minibatch: 91.41%\n",
            "\n",
            "\n",
            "Epoch 9, Iteration 238\n",
            "Train Set Loss: 1.64\n",
            "Test Set Loss: 3.95\n",
            "Train set accuracy for a single minibatch: 92.97%\n",
            "Test set accuracy for a single minibatch: 88.28%\n",
            "\n",
            "\n",
            "Epoch 9, Iteration 288\n",
            "Train Set Loss: 1.68\n",
            "Test Set Loss: 3.51\n",
            "Train set accuracy for a single minibatch: 88.28%\n",
            "Test set accuracy for a single minibatch: 89.06%\n",
            "\n",
            "\n",
            "Epoch 9, Iteration 338\n",
            "Train Set Loss: 1.96\n",
            "Test Set Loss: 2.36\n",
            "Train set accuracy for a single minibatch: 90.62%\n",
            "Test set accuracy for a single minibatch: 89.84%\n",
            "\n",
            "\n",
            "Epoch 9, Iteration 388\n",
            "Train Set Loss: 2.90\n",
            "Test Set Loss: 2.36\n",
            "Train set accuracy for a single minibatch: 91.41%\n",
            "Test set accuracy for a single minibatch: 92.19%\n",
            "\n",
            "\n",
            "Epoch 9, Iteration 438\n",
            "Train Set Loss: 0.98\n",
            "Test Set Loss: 1.65\n",
            "Train set accuracy for a single minibatch: 90.62%\n",
            "Test set accuracy for a single minibatch: 96.88%\n",
            "\n",
            "\n"
          ]
        }
      ],
      "source": [
        "num_epochs = 10\n",
        "loss_hist = []\n",
        "test_loss_hist = []\n",
        "counter = 0\n",
        "\n",
        "# Outer training loop\n",
        "for epoch in range(num_epochs):\n",
        "    iter_counter = 0\n",
        "    train_batch = iter(train_loader)\n",
        "\n",
        "    # Minibatch training loop\n",
        "    for data, targets in train_batch:\n",
        "    #####################################################\n",
        "        data += my_GWN(pars, sig=sig_ou, myseed = random.randint(1, 1000))\n",
        "    #####################################################      \n",
        "        data = data.to(device)\n",
        "        targets = targets.to(device)\n",
        "\n",
        "        # forward pass\n",
        "        net.train()\n",
        "        spk_rec, mem_rec = net(data.view(batch_size, -1))\n",
        "\n",
        "        # initialize the loss & sum over time\n",
        "        loss_val = torch.zeros((1), dtype=dtype, device=device)\n",
        "        for step in range(num_steps):\n",
        "            loss_val += loss(mem_rec[step], targets)\n",
        "\n",
        "        # Gradient calculation + weight update\n",
        "        optimizer.zero_grad()\n",
        "        loss_val.backward()\n",
        "        optimizer.step()\n",
        "\n",
        "        # Store loss history for future plotting\n",
        "        loss_hist.append(loss_val.item())\n",
        "\n",
        "        # Test set\n",
        "        with torch.no_grad():\n",
        "            net.eval()\n",
        "            test_data, test_targets = next(iter(test_loader))\n",
        "        #####################################################\n",
        "            test_data += my_GWN(pars, sig=sig_ou, myseed = random.randint(1, 1000))\n",
        "        #####################################################                  \n",
        "            test_data = test_data.to(device)\n",
        "            test_targets = test_targets.to(device)\n",
        "\n",
        "            # Test set forward pass\n",
        "            test_spk, test_mem = net(test_data.view(batch_size, -1))\n",
        "\n",
        "            # Test set loss\n",
        "            test_loss = torch.zeros((1), dtype=dtype, device=device)\n",
        "            for step in range(num_steps):\n",
        "                test_loss += loss(test_mem[step], test_targets)\n",
        "            test_loss_hist.append(test_loss.item())\n",
        "\n",
        "            # Print train/test loss/accuracy\n",
        "            if counter % 50 == 0:\n",
        "                train_printer()\n",
        "            counter += 1\n",
        "            iter_counter +=1"
      ]
    },
    {
      "cell_type": "markdown",
      "metadata": {
        "id": "Taf6WZLojHTz"
      },
      "source": [
        "If this was your first time training an SNN, then congratulations!"
      ]
    },
    {
      "cell_type": "markdown",
      "metadata": {
        "collapsed": false,
        "id": "HxU7P7xFpko3",
        "pycharm": {
          "name": "#%% md\n"
        }
      },
      "source": [
        "# 8. Results\n",
        "## 8.1 Plot Training/Test Loss"
      ]
    },
    {
      "cell_type": "code",
      "execution_count": null,
      "metadata": {
        "id": "_Pk_EScnpkpj",
        "pycharm": {
          "name": "#%%\n"
        },
        "colab": {
          "base_uri": "https://localhost:8080/",
          "height": 248
        },
        "outputId": "cd7d374b-1748-41db-b151-f5f5a7b18317"
      },
      "outputs": [
        {
          "output_type": "error",
          "ename": "NameError",
          "evalue": "ignored",
          "traceback": [
            "\u001b[0;31m---------------------------------------------------------------------------\u001b[0m",
            "\u001b[0;31mNameError\u001b[0m                                 Traceback (most recent call last)",
            "\u001b[0;32m<ipython-input-1-20a404c7ee55>\u001b[0m in \u001b[0;36m<module>\u001b[0;34m()\u001b[0m\n\u001b[1;32m      1\u001b[0m \u001b[0;31m# Plot Loss\u001b[0m\u001b[0;34m\u001b[0m\u001b[0;34m\u001b[0m\u001b[0;34m\u001b[0m\u001b[0m\n\u001b[0;32m----> 2\u001b[0;31m \u001b[0mfig\u001b[0m \u001b[0;34m=\u001b[0m \u001b[0mplt\u001b[0m\u001b[0;34m.\u001b[0m\u001b[0mfigure\u001b[0m\u001b[0;34m(\u001b[0m\u001b[0mfacecolor\u001b[0m\u001b[0;34m=\u001b[0m\u001b[0;34m\"w\"\u001b[0m\u001b[0;34m,\u001b[0m \u001b[0mfigsize\u001b[0m\u001b[0;34m=\u001b[0m\u001b[0;34m(\u001b[0m\u001b[0;36m10\u001b[0m\u001b[0;34m,\u001b[0m \u001b[0;36m5\u001b[0m\u001b[0;34m)\u001b[0m\u001b[0;34m)\u001b[0m\u001b[0;34m\u001b[0m\u001b[0;34m\u001b[0m\u001b[0m\n\u001b[0m\u001b[1;32m      3\u001b[0m \u001b[0mplt\u001b[0m\u001b[0;34m.\u001b[0m\u001b[0mplot\u001b[0m\u001b[0;34m(\u001b[0m\u001b[0mloss_hist\u001b[0m\u001b[0;34m)\u001b[0m\u001b[0;34m\u001b[0m\u001b[0;34m\u001b[0m\u001b[0m\n\u001b[1;32m      4\u001b[0m \u001b[0mplt\u001b[0m\u001b[0;34m.\u001b[0m\u001b[0mplot\u001b[0m\u001b[0;34m(\u001b[0m\u001b[0mtest_loss_hist\u001b[0m\u001b[0;34m)\u001b[0m\u001b[0;34m\u001b[0m\u001b[0;34m\u001b[0m\u001b[0m\n\u001b[1;32m      5\u001b[0m \u001b[0mplt\u001b[0m\u001b[0;34m.\u001b[0m\u001b[0mtitle\u001b[0m\u001b[0;34m(\u001b[0m\u001b[0;34m\"Loss Curves\"\u001b[0m\u001b[0;34m)\u001b[0m\u001b[0;34m\u001b[0m\u001b[0;34m\u001b[0m\u001b[0m\n",
            "\u001b[0;31mNameError\u001b[0m: name 'plt' is not defined"
          ]
        }
      ],
      "source": [
        "# Plot Loss\n",
        "fig = plt.figure(facecolor=\"w\", figsize=(10, 5))\n",
        "plt.plot(loss_hist)\n",
        "plt.plot(test_loss_hist)\n",
        "plt.title(\"Loss Curves\")\n",
        "plt.legend([\"Train Loss\", \"Test Loss\"])\n",
        "plt.xlabel(\"Iteration\")\n",
        "plt.ylabel(\"Loss\")\n",
        "plt.show()"
      ]
    },
    {
      "cell_type": "markdown",
      "metadata": {
        "id": "g-Gd84OAl1rB"
      },
      "source": [
        "The loss curves are noisy because the losses are tracked at every iteration, rather than averaging across multiple iterations. "
      ]
    },
    {
      "cell_type": "markdown",
      "metadata": {
        "collapsed": false,
        "id": "Z3f0vBnBpkpk",
        "pycharm": {
          "name": "#%% md\n"
        }
      },
      "source": [
        "## 8.2 Test Set Accuracy\n",
        "This function iterates over all minibatches to obtain a measure of accuracy over the full 10,000 samples in the test set."
      ]
    },
    {
      "cell_type": "code",
      "execution_count": null,
      "metadata": {
        "id": "F5Rb4xHGndQh",
        "colab": {
          "base_uri": "https://localhost:8080/"
        },
        "outputId": "ca0973a8-e59a-4865-f2c2-762ec0a95816"
      },
      "outputs": [
        {
          "output_type": "stream",
          "name": "stdout",
          "text": [
            "Total correctly classified test set images: 9437/10000\n",
            "Test Set Accuracy: 94.37%\n"
          ]
        }
      ],
      "source": [
        "total = 0\n",
        "correct = 0\n",
        "\n",
        "# drop_last switched to False to keep all samples\n",
        "test_loader = DataLoader(mnist_test, batch_size=batch_size, shuffle=True, drop_last=False)\n",
        "\n",
        "with torch.no_grad():\n",
        "  net.eval()\n",
        "  for data, targets in test_loader:\n",
        "    data = data.to(device)\n",
        "    targets = targets.to(device)\n",
        "    \n",
        "    # forward pass\n",
        "    test_spk, _ = net(data.view(data.size(0), -1))\n",
        "\n",
        "    # calculate total accuracy\n",
        "    _, predicted = test_spk.sum(dim=0).max(1)\n",
        "    total += targets.size(0)\n",
        "    correct += (predicted == targets).sum().item()\n",
        "\n",
        "print(f\"Total correctly classified test set images: {correct}/{total}\")\n",
        "print(f\"Test Set Accuracy: {100 * correct / total:.2f}%\")"
      ]
    },
    {
      "cell_type": "markdown",
      "metadata": {
        "collapsed": false,
        "id": "TBIXau4Zpkpl",
        "pycharm": {
          "name": "#%% md\n"
        }
      },
      "source": [
        "Voila! That's it for static MNIST. Feel free to tweak the network parameters, hyperparameters, decay rate, using a learning rate scheduler etc. to see if you can improve the network performance. "
      ]
    },
    {
      "cell_type": "markdown",
      "metadata": {
        "id": "s0dAgWUt2o6E"
      },
      "source": [
        "# Conclusion\n",
        "Now you know how to construct and train a fully-connected network on a static dataset. The spiking neurons can also be adapted to other layer types, including convolutions and skip connections. Armed with this knowledge, you should now be able to build many different types of SNNs. [In the next tutorial](https://snntorch.readthedocs.io/en/latest/tutorials/index.html), you will learn how to train a spiking convolutional network, and simplify the amount of code required using the `snn.backprop` module.\n",
        "\n",
        "If you like this project, please consider starring ⭐ the repo on GitHub as it is the easiest and best way to support it.\n"
      ]
    },
    {
      "cell_type": "markdown",
      "metadata": {
        "id": "ThSB-Ue3odDb"
      },
      "source": [
        "# Additional Resources\n",
        "\n",
        "* [Check out the snnTorch GitHub project here.](https://github.com/jeshraghian/snntorch)"
      ]
    },
    {
      "cell_type": "code",
      "source": [
        ""
      ],
      "metadata": {
        "id": "adK5dTinvnqT"
      },
      "execution_count": null,
      "outputs": []
    }
  ],
  "metadata": {
    "accelerator": "GPU",
    "colab": {
      "name": "Tutorial 5 trial 2",
      "provenance": [],
      "collapsed_sections": [],
      "include_colab_link": true
    },
    "kernelspec": {
      "display_name": "Python 3",
      "language": "python",
      "name": "python3"
    },
    "language_info": {
      "codemirror_mode": {
        "name": "ipython",
        "version": 2
      },
      "file_extension": ".py",
      "mimetype": "text/x-python",
      "name": "python",
      "nbconvert_exporter": "python",
      "pygments_lexer": "ipython2",
      "version": "2.7.6"
    }
  },
  "nbformat": 4,
  "nbformat_minor": 0
}